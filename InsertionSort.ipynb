{
 "cells": [
  {
   "cell_type": "markdown",
   "metadata": {},
   "source": [
    "# punto1\n"
   ]
  },
  {
   "cell_type": "code",
   "execution_count": 76,
   "metadata": {
    "collapsed": true
   },
   "outputs": [],
   "source": [
    "\n",
    "import math\n",
    "import itertools\n",
    "import numpy as np\n",
    "import pylab as pl\n",
    "\n",
    "import time\n",
    "import gc\n",
    "import matplotlib.pyplot as plt\n",
    "import scipy\n",
    "from __future__ import unicode_literals\n",
    "%matplotlib inline"
   ]
  },
  {
   "cell_type": "code",
   "execution_count": 77,
   "metadata": {
    "collapsed": true
   },
   "outputs": [],
   "source": [
    "\n",
    "def insertion_sort(A):\n",
    "    time1=time.clock()\n",
    "    j=1\n",
    "    while j < len(A):\n",
    "        pos = A[j]\n",
    "        i = j - 1\n",
    "        while (i >= 0) and (A[i] > pos):\n",
    "            A[i + 1] = A[i]\n",
    "            i -= 1\n",
    "        A[i + 1] = pos\n",
    "        j += 1\n",
    "    return time.clock()-time1"
   ]
  },
  {
   "cell_type": "markdown",
   "metadata": {},
   "source": [
    "calculo de tiempo para el mejor caso "
   ]
  },
  {
   "cell_type": "code",
   "execution_count": 78,
   "metadata": {
    "collapsed": false
   },
   "outputs": [],
   "source": [
    "def calc_timemejor( n):\n",
    "    timesum = 0\n",
    "    gc.collect()\n",
    "    for i in range(1000):\n",
    "        ordenada=range(1,n+1)\n",
    "    \n",
    "        timesum+=insertion_sort(ordenada)\n",
    "        \n",
    "    return (timesum/1000)"
   ]
  },
  {
   "cell_type": "markdown",
   "metadata": {},
   "source": [
    "claculo de tiempo para el peor caso "
   ]
  },
  {
   "cell_type": "code",
   "execution_count": 79,
   "metadata": {
    "collapsed": false
   },
   "outputs": [],
   "source": [
    "def calc_timepeor( n):\n",
    "    \n",
    "    timesum = 0\n",
    "    gc.collect()\n",
    "   \n",
    "    for i in range(1000):\n",
    "        desordenada=range(n,0,-1)\n",
    "        \n",
    "        timesum+=insertion_sort(desordenada)\n",
    "        \n",
    "    return (timesum/1000)"
   ]
  },
  {
   "cell_type": "markdown",
   "metadata": {},
   "source": [
    "calculo de tiempo para el caso promedio para todas las permutaciones"
   ]
  },
  {
   "cell_type": "code",
   "execution_count": 80,
   "metadata": {
    "collapsed": false
   },
   "outputs": [],
   "source": [
    "def calc_timemedio(n):\n",
    " \n",
    "    medio=0\n",
    "    tam=0\n",
    "    timesum=0\n",
    "    gc.collect()\n",
    "    lista=range(1,n+1)\n",
    "    for i in range(1000):\n",
    "        for p in itertools.permutations(lista):\n",
    "            medio+=insertion_sort(list(p))\n",
    "            tam+=1\n",
    "        timesum+=(medio/tam)\n",
    "        \n",
    "    return (timesum/1000)\n",
    "            "
   ]
  },
  {
   "cell_type": "markdown",
   "metadata": {},
   "source": [
    "mejores"
   ]
  },
  {
   "cell_type": "code",
   "execution_count": 81,
   "metadata": {
    "collapsed": false
   },
   "outputs": [
    {
     "name": "stdout",
     "output_type": "stream",
     "text": [
      "[7.301178862348934e-06, 7.368915411007038e-06, 1.003978803805694e-05]\n"
     ]
    }
   ],
   "source": [
    "mejores=[]\n",
    "mejor4=calc_timemejor(4)\n",
    "mejor5=calc_timemejor(5)\n",
    "mejor6=calc_timemejor(6)\n",
    "mejores.append(mejor4)\n",
    "mejores.append(mejor5)\n",
    "mejores.append(mejor6)\n",
    "print mejores"
   ]
  },
  {
   "cell_type": "markdown",
   "metadata": {},
   "source": [
    "peores"
   ]
  },
  {
   "cell_type": "code",
   "execution_count": 82,
   "metadata": {
    "collapsed": false
   },
   "outputs": [
    {
     "name": "stdout",
     "output_type": "stream",
     "text": [
      "[1.1976232271649678e-05, 1.2826018059911348e-05, 1.8035984938933326e-05]\n"
     ]
    }
   ],
   "source": [
    "peores=[]\n",
    "peores.append(calc_timepeor(4))\n",
    "peores.append(calc_timepeor(5))\n",
    "peores.append(calc_timepeor(6))\n",
    "print peores\n"
   ]
  },
  {
   "cell_type": "markdown",
   "metadata": {},
   "source": [
    "promedios"
   ]
  },
  {
   "cell_type": "code",
   "execution_count": 83,
   "metadata": {
    "collapsed": false
   },
   "outputs": [
    {
     "name": "stdout",
     "output_type": "stream",
     "text": [
      "[1.0063666901985225e-05, 9.850377329238539e-06, 1.1942069379524427e-05]\n"
     ]
    }
   ],
   "source": [
    "promedios=[]\n",
    "promedios.append( calc_timemedio(4))\n",
    "promedios.append( calc_timemedio(5))\n",
    "promedios.append( calc_timemedio(6))\n",
    "print promedios"
   ]
  },
  {
   "cell_type": "markdown",
   "metadata": {},
   "source": [
    "Grafica de interpolacion"
   ]
  },
  {
   "cell_type": "code",
   "execution_count": 84,
   "metadata": {
    "collapsed": false
   },
   "outputs": [
    {
     "data": {
      "text/plain": [
       "<matplotlib.legend.Legend at 0x90736a0>"
      ]
     },
     "execution_count": 84,
     "metadata": {},
     "output_type": "execute_result"
    },
    {
     "data": {
      "image/png": "[encoded data removed]",
      "text/plain": [
       "<matplotlib.figure.Figure at 0x9073d68>"
      ]
     },
     "metadata": {},
     "output_type": "display_data"
    }
   ],
   "source": [
    "%matplotlib inline\n",
    "import matplotlib.pyplot as plt\n",
    "import numpy as np\n",
    "from scipy.interpolate import interp1d\n",
    "import math\n",
    "\n",
    "x = np.linspace(1,10**6,10**5,endpoint=True)\n",
    "x2 = np.linspace(1,10**6,10**5,endpoint=True)\n",
    "\n",
    "f1 = interp1d(x,mejores,kind='quadratic')\n",
    "f2 = interp1d(x,peores,kind='quadratic')\n",
    "f3 = interp1d(x,promedios,kind='quadratic')\n",
    "\n",
    "#plt.plot(x,mejores,x,peores,x,promedios)\n",
    "plt.plot(x2,f1(x2),x2,f2(x2),x2,f3(x2))\n",
    "plt.legend(['Mejor','Peor','Promedio'],loc='best')"
   ]
  },
  {
   "cell_type": "markdown",
   "metadata": {},
   "source": [
    "constantes para el polinomio "
   ]
  },
  {
   "cell_type": "code",
   "execution_count": 85,
   "metadata": {
    "collapsed": false
   },
   "outputs": [
    {
     "name": "stdout",
     "output_type": "stream",
     "text": [
      "Constantes para los polinomios:\n",
      "mejor: (1.3015680392e-06)x²+(-1.16463758041e-05)x+(3.30615934516e-05)\n",
      "promedio: (1.15249081152e-06)x²+(-1.05857068764e-05)x+(3.39666414233e-05)\n",
      "peor: (2.18009054538e-06)x²+(-1.87710291202e-05)x+(5.21789000262e-05)\n"
     ]
    }
   ],
   "source": [
    "from scipy.interpolate import interp1d\n",
    "mejor = np.polyfit([4, 5, 6], mejores, 2)\n",
    "med = np.polyfit([4, 5, 6], promedios, 2)\n",
    "peor = np.polyfit([4, 5, 6], peores, 2)\n",
    "\n",
    "\n",
    "print \"Constantes para los polinomios:\"\n",
    "print \"mejor: (\"+str(mejor[0])+\")x²+(\"+str(mejor[1])+\")x+(\"+str(mejor[2])+\")\"\n",
    "print \"promedio: (\"+str(med[0])+\")x²+(\"+str(med[1])+\")x+(\"+str(med[2])+\")\"\n",
    "print \"peor: (\"+str(peor[0])+\")x²+(\"+str(peor[1])+\")x+(\"+str(peor[2])+\")\""
   ]
  },
  {
   "cell_type": "code",
   "execution_count": null,
   "metadata": {
    "collapsed": true
   },
   "outputs": [],
   "source": []
  },
  {
   "cell_type": "code",
   "execution_count": null,
   "metadata": {
    "collapsed": true
   },
   "outputs": [],
   "source": []
  }
 ],
 "metadata": {
  "kernelspec": {
   "display_name": "Python 2",
   "language": "python",
   "name": "python2"
  },
  "language_info": {
   "codemirror_mode": {
    "name": "ipython",
    "version": 2
   },
   "file_extension": ".py",
   "mimetype": "text/x-python",
   "name": "python",
   "nbconvert_exporter": "python",
   "pygments_lexer": "ipython2",
   "version": "2.7.11"
  }
 },
 "nbformat": 4,
 "nbformat_minor": 0
}
